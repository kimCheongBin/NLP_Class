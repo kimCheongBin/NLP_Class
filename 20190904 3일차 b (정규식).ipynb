{
 "cells": [
  {
   "cell_type": "code",
   "execution_count": 41,
   "metadata": {},
   "outputs": [],
   "source": [
    "# python에서 정규식을 쓰는 패키지\n",
    "import re"
   ]
  },
  {
   "cell_type": "markdown",
   "metadata": {},
   "source": [
    "#### 정규식 기초\n",
    "- \n",
    "\n",
    "###### Meta characters \n",
    "\n",
    "- . => Any characters (single)\n",
    "- [or] => bracket(범위) one of them, \n",
    "    - -는 범위: A-Z\n",
    "- ? => True or False\n",
    "- {m, n} => Min=m, Max=n로 반복 횟수를 의미한다.\n",
    "- \\* => {0, } 와 같은 표현. 없거나, 한번 이상 반복\n",
    "- \\+ => {1, } 와 같은 표현. 한번 이상 반복\n",
    "- \\d => A-za-z0-9_\n",
    "- \\s => whitespace(공백)\n",
    "- \\b => Word Boundary\n",
    "\n",
    "* 대문자로 쓰면 Not의 의미를 갖는다.\n",
    "    - \\D => 문자가 아닌 애들\n",
    "    - \\S => whitespace(공백)이 아닌 애들\n",
    "    - \\B => Word Boundary가 아닌 애들\n",
    "    \n",
    "* ^ => 1. not (bracket 안에 있을 때만), 2. startwith\n",
    "- .+ => 아무글자가 1번(Greedy 방식)\n",
    "- .+? => Lazy 방식\n",
    "- () => 그룹"
   ]
  },
  {
   "cell_type": "markdown",
   "metadata": {},
   "source": [
    "## 기본 연습"
   ]
  },
  {
   "cell_type": "code",
   "execution_count": 2,
   "metadata": {},
   "outputs": [
    {
     "data": {
      "text/plain": [
       "['가나다', '가가다', '가라다', '가가다']"
      ]
     },
     "execution_count": 2,
     "metadata": {},
     "output_type": "execute_result"
    }
   ],
   "source": [
    "# 패턴 \"가.다\"에 해당하는 글자들만 뽑아온다.\n",
    "# .은 아무 글자나 1개를 의미를 하므로, 가와 다 사이에 아무 글자나 있으면 가져온다.\n",
    "\n",
    "re.findall(\"가.다\", \"가나다라마바사 가가다 가다 가라다 가가가가다\")"
   ]
  },
  {
   "cell_type": "code",
   "execution_count": 6,
   "metadata": {},
   "outputs": [
    {
     "data": {
      "text/plain": [
       "['아', '버', '지', '아', '버', '지', '아', '버', '지', '아', '버', '지', '아', '지']"
      ]
     },
     "execution_count": 6,
     "metadata": {},
     "output_type": "execute_result"
    }
   ],
   "source": [
    "# [] 안에 있는 글자들 중에 일치하는 글자를 찾는다.\n",
    "\n",
    "re.findall(\"[아버지]\", \"아버지가 아버지께서 아버지와 아버지는 강아지\")"
   ]
  },
  {
   "cell_type": "code",
   "execution_count": 5,
   "metadata": {},
   "outputs": [
    {
     "data": {
      "text/plain": [
       "['아버지', '아버지', '아버지', '아버지', '아지']"
      ]
     },
     "execution_count": 5,
     "metadata": {},
     "output_type": "execute_result"
    }
   ],
   "source": [
    "# ?은 있거나 없거나 라는 뜻\n",
    "# .?는 아무글자나 한개가 있거나 없거나 라는 뜻. -> 강아지의 \"아지\"가 걸리는 이유.\n",
    "\n",
    "re.findall(\"아.?지\", \"아버지가 아버지께서 아버지와 아버지는 강아지\")"
   ]
  },
  {
   "cell_type": "code",
   "execution_count": 7,
   "metadata": {},
   "outputs": [
    {
     "data": {
      "text/plain": [
       "['가', '께']"
      ]
     },
     "execution_count": 7,
     "metadata": {},
     "output_type": "execute_result"
    }
   ],
   "source": [
    "# [] 안에 -가 있으면 범위를 나타낸다.\n",
    "# [가-나] 는 \"가\" 부터 \"나\" 까지의 범위를 의미한다.\n",
    "# 알파벳 [a-c]는 \"a\"부터 \"c\"까지의 범위를 의미한다.\n",
    "\n",
    "re.findall(\"[가-나]\", \"아버지가 아버지께서 아버지와 아버지는\")"
   ]
  },
  {
   "cell_type": "code",
   "execution_count": 8,
   "metadata": {},
   "outputs": [
    {
     "data": {
      "text/plain": [
       "['ㄱ', 'ㄶ', 'ㅇ', 'ㄷ']"
      ]
     },
     "execution_count": 8,
     "metadata": {},
     "output_type": "execute_result"
    }
   ],
   "source": [
    "# 자음만 걸러낸다.\n",
    "\n",
    "re.findall(\"[ㄱ-ㅎ]\", \"ㄱㄶㅇㄷ 아버지가 아버지께서 아버지와 아버지는\")"
   ]
  },
  {
   "cell_type": "code",
   "execution_count": 12,
   "metadata": {},
   "outputs": [
    {
     "data": {
      "text/plain": [
       "['ㅠㅠ', 'ㅡㅡ', 'ㅣㅣ']"
      ]
     },
     "execution_count": 12,
     "metadata": {},
     "output_type": "execute_result"
    }
   ],
   "source": [
    "# 모음이 연달아서 2번 이상 나올때만 걸러낸다.\n",
    "\n",
    "re.findall(\"[ㅏ-ㅣ]{2,}\", \"ㅠㅠ ㅡㅡ ㅣㅣ ㄱㄶㄷㅇ 아버지가 아버지께서 아버지와 아버지는\")"
   ]
  },
  {
   "cell_type": "code",
   "execution_count": 11,
   "metadata": {},
   "outputs": [
    {
     "data": {
      "text/plain": [
       "['ㅅㅂ', 'ㅋㅋ', 'ㅎㅎ']"
      ]
     },
     "execution_count": 11,
     "metadata": {},
     "output_type": "execute_result"
    }
   ],
   "source": [
    "# 비속어를 걸러내는데 쓸 수 있다.\n",
    "\n",
    "re.findall(\"[ㄱ-ㅎ]{2,}\", \"ㅅㅂ ㅋㅋ ㅎㅎ\")"
   ]
  },
  {
   "cell_type": "markdown",
   "metadata": {},
   "source": [
    "r\"\" => raw format"
   ]
  },
  {
   "cell_type": "code",
   "execution_count": 17,
   "metadata": {},
   "outputs": [
    {
     "data": {
      "text/plain": [
       "['#$@#$@#']"
      ]
     },
     "execution_count": 17,
     "metadata": {},
     "output_type": "execute_result"
    }
   ],
   "source": [
    "# 제대로 문자를 해석하지 못할 때가 있다.\n",
    "\n",
    "re.findall(r\"\\B[^가-힣]+\\B\", \"아버@#$@#$@#$지가 아버지께서 아버지와 아버지는\")"
   ]
  },
  {
   "cell_type": "code",
   "execution_count": 18,
   "metadata": {},
   "outputs": [
    {
     "data": {
      "text/plain": [
       "'아버@$지가 아버지께서 아버지와 아버지는'"
      ]
     },
     "execution_count": 18,
     "metadata": {},
     "output_type": "execute_result"
    }
   ],
   "source": [
    "# 걸러낸 문자를 지워버리는 기능으로 쓸 수 있다.\n",
    "\n",
    "re.sub(r\"\\B[^가-힣]+\\B\", \"\", \"아버@#$@#$@#$지가 아버지께서 아버지와 아버지는\")"
   ]
  },
  {
   "cell_type": "code",
   "execution_count": null,
   "metadata": {},
   "outputs": [],
   "source": []
  },
  {
   "cell_type": "code",
   "execution_count": 23,
   "metadata": {},
   "outputs": [
    {
     "data": {
      "text/plain": [
       "['아버지가']"
      ]
     },
     "execution_count": 23,
     "metadata": {},
     "output_type": "execute_result"
    }
   ],
   "source": [
    "# Lazy 방식\n",
    "\n",
    "re.findall(r\"^아.+?\\b\", \"아버지가 아버지께서 아버지와 아버지는\")"
   ]
  },
  {
   "cell_type": "code",
   "execution_count": 22,
   "metadata": {},
   "outputs": [
    {
     "data": {
      "text/plain": [
       "['아버지가 아버지께서 아버지와 아버지는']"
      ]
     },
     "execution_count": 22,
     "metadata": {},
     "output_type": "execute_result"
    }
   ],
   "source": [
    "#Greedy 방식\n",
    "\n",
    "re.findall(r\"^아.+\\b\", \"아버지가 아버지께서 아버지와 아버지는\")"
   ]
  },
  {
   "cell_type": "code",
   "execution_count": 20,
   "metadata": {},
   "outputs": [
    {
     "data": {
      "text/plain": [
       "'\\\\|\\\\$%\\\\#\\\\&\\\\#\\\\(\\\\(\\\\$\\\\&\\\\|\\\\)\\\\)'"
      ]
     },
     "execution_count": 20,
     "metadata": {},
     "output_type": "execute_result"
    }
   ],
   "source": [
    "# 알아서 이스케이프 처리 다 해주는 메서드\n",
    "\n",
    "re.escape(\"|$%#&#(($&|))\")"
   ]
  },
  {
   "cell_type": "markdown",
   "metadata": {},
   "source": [
    "## url을 정규식으로 걸러내는 연습"
   ]
  },
  {
   "cell_type": "code",
   "execution_count": null,
   "metadata": {},
   "outputs": [],
   "source": [
    "urls = [\n",
    "    \"http://www.naver.com\",\n",
    "    \"https://www.naver.com\",\n",
    "    \"//www.naver.com\",\n",
    "    \"www.naver.com\"\n",
    "]"
   ]
  },
  {
   "cell_type": "code",
   "execution_count": 33,
   "metadata": {},
   "outputs": [
    {
     "name": "stdout",
     "output_type": "stream",
     "text": [
      "http://www.naver.com\n",
      "https://www.naver.com\n"
     ]
    }
   ],
   "source": [
    "# http로 시작하는 url만 찾는 방법\n",
    "\n",
    "for _ in urls:\n",
    "    if _.startswith(\"http\"):\n",
    "        print(_)"
   ]
  },
  {
   "cell_type": "code",
   "execution_count": 32,
   "metadata": {},
   "outputs": [
    {
     "data": {
      "text/plain": [
       "['http://www.naver.com', 'https://www.naver.com']"
      ]
     },
     "execution_count": 32,
     "metadata": {},
     "output_type": "execute_result"
    }
   ],
   "source": [
    "# 정규식을 이용해서 http로 시작하는 url만 찾는 방법\n",
    "\n",
    "# 정규식 패턴을 미리 정해놓을 수 있다.\n",
    "pattern = re.compile(r\"^http\")\n",
    "\n",
    "# list comprehension\n",
    "[_ for _ in urls if pattern.search(_)]"
   ]
  },
  {
   "cell_type": "code",
   "execution_count": 34,
   "metadata": {},
   "outputs": [],
   "source": [
    "# url 종류를 추가함\n",
    "\n",
    "urls = [\n",
    "    \"http://www.naver.com\",\n",
    "    \"https://www.naver.com\",\n",
    "    \"//www.naver.com\",\n",
    "    \"www.naver.com\",\n",
    "    \"www.daum.net\",\n",
    "    \"lms.koipa.or.kr\"\n",
    "]"
   ]
  },
  {
   "cell_type": "code",
   "execution_count": 35,
   "metadata": {},
   "outputs": [
    {
     "data": {
      "text/plain": [
       "['http://www.naver.com',\n",
       " 'https://www.naver.com',\n",
       " '//www.naver.com',\n",
       " 'www.naver.com',\n",
       " 'www.daum.net']"
      ]
     },
     "execution_count": 35,
     "metadata": {},
     "output_type": "execute_result"
    }
   ],
   "source": [
    "# .com 또는 .net으로 끝나는 것만 가져오는 방법\n",
    "\n",
    "pattern = re.compile(r\".com$|.net$\")\n",
    "[_ for _ in urls if pattern.search(_)]"
   ]
  },
  {
   "cell_type": "markdown",
   "metadata": {},
   "source": [
    "## 이메일을 정규식으로 걸러내는 연습"
   ]
  },
  {
   "cell_type": "code",
   "execution_count": 36,
   "metadata": {},
   "outputs": [
    {
     "data": {
      "text/plain": [
       "['test@domain.com']"
      ]
     },
     "execution_count": 36,
     "metadata": {},
     "output_type": "execute_result"
    }
   ],
   "source": [
    "# 이메일로 해보기\n",
    "\n",
    "re.findall(r\"[a-z][a-z0-9]{2,}@\\w{3,}[.][a-z]{3}\", \"test@domain.com\")"
   ]
  },
  {
   "cell_type": "code",
   "execution_count": 37,
   "metadata": {},
   "outputs": [
    {
     "data": {
      "text/plain": [
       "['test']"
      ]
     },
     "execution_count": 37,
     "metadata": {},
     "output_type": "execute_result"
    }
   ],
   "source": [
    "# 아이디 부분만 추출하고 싶으면, 아이디에 해당하는 정규식 부분만 ()그룹핑해주면 된다.\n",
    "\n",
    "re.findall(r\"([a-z][a-z0-9]{2,})@\\w{3,}[.][a-z]{3}\", \"test@domain.com\")"
   ]
  },
  {
   "cell_type": "code",
   "execution_count": 38,
   "metadata": {},
   "outputs": [
    {
     "data": {
      "text/plain": [
       "[('test', 'domain.com')]"
      ]
     },
     "execution_count": 38,
     "metadata": {},
     "output_type": "execute_result"
    }
   ],
   "source": [
    "# ()그룹핑을 통해서 아이디와 도메인을 따로 뽑을 수도 있다.\n",
    "\n",
    "re.findall(r\"([a-z][a-z0-9]{2,})@(\\w{3,}[.][a-z]{3})\", \"test@domain.com\")"
   ]
  },
  {
   "cell_type": "code",
   "execution_count": null,
   "metadata": {},
   "outputs": [],
   "source": [
    "# 결과를 groups 객체에 할당\n",
    "\n",
    "groups = re.findall(r\"([a-z][a-z0-9]{2,})@(\\w{3,}[.][a-z]{3})\", \n",
    "                    \"test@domain.com\")"
   ]
  },
  {
   "cell_type": "code",
   "execution_count": 43,
   "metadata": {},
   "outputs": [
    {
     "data": {
      "text/plain": [
       "[('https', 'domain.com', '.com')]"
      ]
     },
     "execution_count": 43,
     "metadata": {},
     "output_type": "execute_result"
    }
   ],
   "source": [
    "# 이메일 도메인 찾는 정규식을 url에도 활용해보자.\n",
    "\n",
    "re.findall(r\"(https?):\\/\\/(\\w+([.][a-z]{2})+)\", \n",
    "           \"https://domain.com\")"
   ]
  },
  {
   "cell_type": "code",
   "execution_count": 45,
   "metadata": {},
   "outputs": [
    {
     "data": {
      "text/plain": [
       "[('https', 'domain.co.kr', '.kr')]"
      ]
     },
     "execution_count": 45,
     "metadata": {},
     "output_type": "execute_result"
    }
   ],
   "source": [
    "# 이메일 도메인 찾는 정규식을 url에도 활용해보자\n",
    "# .com이 아니라 or.kr도 찾을 수 있다.\n",
    "\n",
    "re.findall(r\"(https?):\\/\\/(\\w+([.][a-z]{2})+)\", \n",
    "           \"https://domain.co.kr\")"
   ]
  },
  {
   "cell_type": "markdown",
   "metadata": {},
   "source": [
    "## html 태그에서 정규식으로 원하는 내용 찾는 연습"
   ]
  },
  {
   "cell_type": "markdown",
   "metadata": {},
   "source": [
    "### 실습"
   ]
  },
  {
   "cell_type": "code",
   "execution_count": 26,
   "metadata": {},
   "outputs": [],
   "source": [
    "import requests\n",
    "import random\n",
    "import time"
   ]
  },
  {
   "cell_type": "code",
   "execution_count": 69,
   "metadata": {},
   "outputs": [],
   "source": [
    "headers = {\"User-Agent\": \"Mozilla/5.0 (Windows NT 10.0; Win64; x64) AppleWebKit/537.36 (KHTML, like Gecko) Chrome/76.0.3809.132 Safari/537.36\"}\n",
    "\n",
    "def download(method=\"get\", url=\"\", headers={}, params={}, retries=3):\n",
    "    try:\n",
    "        resp = requests.request(method, \n",
    "                                url, \n",
    "                                headers=headers,\n",
    "                                params=params if method==\"get\" else {},\n",
    "                                data = params if method==\"post\" else {}\n",
    "                               )\n",
    "        resp.raise_for_status()\n",
    "        \n",
    "    except requests.exceptions.HTTPError as e:\n",
    "        if 500 <= resp.status_code < 600 and retries > 0:\n",
    "            print(\"Retries:\",retries)\n",
    "            time.sleep(random.randint(1,5))\n",
    "            return download(method, url, headers, params, retries-1)\n",
    "            \n",
    "        else:\n",
    "            print(resp.status_code)\n",
    "            print(resp.reason)\n",
    "            print(resp.request.headers)\n",
    "            print(resp.url)\n",
    "\n",
    "    return resp"
   ]
  },
  {
   "cell_type": "code",
   "execution_count": 29,
   "metadata": {
    "scrolled": true
   },
   "outputs": [
    {
     "data": {
      "text/plain": [
       "'<!--[if HTML5]><![endif]-->\\n<!DOCTYPE html>\\n<!-- paulirish.com/2008/conditional-stylesheets-vs-css-hacks-answer-neither/ -->\\n<!--[if lt IE 7]><html class=\"ie ie6 ie-lte9 ie-lte8 ie-lte7 no-js\" lang=\"en-us\"> <![endif]-->\\n<!--[if IE 7]><html class=\"ie ie7 ie-lte9 ie-lte8 ie-lte7 no-js\" lang=\"en-us\"> <![endif]-->\\n<!--[if IE 8]><html class=\"ie ie8 ie-lte9 ie-lte8 no-js\" lang=\"en-us\"> <![endif]-->\\n<!--[if IE 9]><html class=\"ie9 ie-lte9 no-js\" lang=\"en-us\"> <![endif]-->\\n<!--[if (gt IE 9)|!(IE)]><!--> <html class=\"no-js\" lang=\"en-us\"> <!--<![endif]-->\\n<head>\\n<title>Example web scraping website</title>\\n  <!--[if !HTML5]>\\n      <meta http-equiv=\"X-UA-Compatible\" content=\"IE=edge,chrome=1\">\\n  <![endif]-->\\n  <!-- www.phpied.com/conditional-comments-block-downloads/ -->\\n  <!-- Always force latest IE rendering engine\\n       (even in intranet) & Chrome Frame\\n       Remove this if you use the .htaccess -->\\n\\t   \\n  <meta charset=\"utf-8\" />\\n\\n  <!-- http://dev.w3.org/html5/markup/meta.name.html -->\\n  <meta name=\"application-name\" content=\"places\" />\\n\\n  <!--  Mobile Viewport Fix\\n        j.mp/mobileviewport & davidbcalhoun.com/2010/viewport-metatag\\n        device-width: Occupy full width of the screen in its current orientation\\n        initial-scale = 1.0 retains dimensions instead of zooming out if page height > device height\\n        user-scalable = yes allows the user to zoom in -->\\n  <meta name=\"viewport\" content=\"width=device-width, initial-scale=1.0\" />\\n\\n  <link rel=\"shortcut icon\" href=\"/places/static/images/favicon.ico\" type=\"image/x-icon\">\\n  <link rel=\"apple-touch-icon\" href=\"/places/static/images/favicon.png\">\\n\\n  <!-- All JavaScript at the bottom, except for Modernizr which enables\\n       HTML5 elements & feature detects -->\\n  <script src=\"/places/static/js/modernizr.custom.js\"></script>\\n\\n  <!-- include stylesheets -->\\n  \\n\\n  <script type=\"text/javascript\"><!--\\n    // These variables are used by the web2py_ajax_init function in web2py_ajax.js (which is loaded below).\\n    var w2p_ajax_confirm_message = \"Are you sure you want to delete this object?\";\\n    var w2p_ajax_disable_with_message = \"Working...\";\\n    var w2p_ajax_date_format = \"%Y-%m-%d\";\\n    var w2p_ajax_datetime_format = \"%Y-%m-%d %H:%M:%S\";\\n    var ajax_error_500 = \\'An error occured, please <a href=\"/places/default/index\">reload</a> the page\\'\\n    //--></script>\\n\\n<meta name=\"keywords\" content=\"web2py, python, web scraping\" />\\n<meta name=\"generator\" content=\"Web2py Web Framework\" />\\n<meta name=\"author\" content=\"Richard Penman\" />\\n<script src=\"/places/static/js/jquery.js\" type=\"text/javascript\"></script><link href=\"/places/static/css/calendar.css\" rel=\"stylesheet\" type=\"text/css\" /><script src=\"/places/static/js/calendar.js\" type=\"text/javascript\"></script><script src=\"/places/static/js/web2py.js\" type=\"text/javascript\"></script><link href=\"/places/static/css/web2py.css\" rel=\"stylesheet\" type=\"text/css\" /><link href=\"/places/static/css/bootstrap.min.css\" rel=\"stylesheet\" type=\"text/css\" /><link href=\"/places/static/css/bootstrap-responsive.min.css\" rel=\"stylesheet\" type=\"text/css\" /><link href=\"/places/static/css/style.css\" rel=\"stylesheet\" type=\"text/css\" /><link href=\"/places/static/css/web2py_bootstrap.css\" rel=\"stylesheet\" type=\"text/css\" />\\n\\n\\n  \\n\\n  <!-- uncomment here to load jquery-ui\\n       <link rel=\"stylesheet\" href=\"http://ajax.googleapis.com/ajax/libs/jqueryui/1.10.3/themes/ui-lightness/jquery-ui.css\" type=\"text/css\" media=\"all\" />\\n       <script src=\"http://ajax.googleapis.com/ajax/libs/jqueryui/1.10.3/jquery-ui.min.js\" type=\"text/javascript\"></script>\\n       uncomment to load jquery-ui //-->\\n  <noscript><link href=\"/places/static/css/web2py_bootstrap_nojs.css\" rel=\"stylesheet\" type=\"text/css\" /></noscript>\\n  \\n</head>\\n\\n<body>\\n  <!-- Navbar ================================================== -->\\n  <div class=\"navbar navbar-inverse\">\\n    <div class=\"flash\"></div>\\n    <div class=\"navbar-inner\">\\n      <div class=\"container\">\\n        \\n        <!-- the next tag is necessary for bootstrap menus, do not remove -->\\n        <button type=\"button\" class=\"btn btn-navbar\" data-toggle=\"collapse\" data-target=\".nav-collapse\" style=\"display:none;\">\\n          <span class=\"icon-bar\"></span>\\n          <span class=\"icon-bar\"></span>\\n          <span class=\"icon-bar\"></span>\\n        </button>\\n        \\n        <ul id=\"navbar\" class=\"nav pull-right\"><li class=\"dropdown\"><a class=\"dropdown-toggle\" data-toggle=\"dropdown\" href=\"#\" rel=\"nofollow\">Log In</a><ul class=\"dropdown-menu\"><li><a href=\"/places/default/user/register?_next=/places/default/index\" rel=\"nofollow\"><i class=\"icon icon-user glyphicon glyphicon-user\"></i> Sign Up</a></li><li class=\"divider\"></li><li><a href=\"/places/default/user/login?_next=/places/default/index\" rel=\"nofollow\"><i class=\"icon icon-off glyphicon glyphicon-off\"></i> Log In</a></li></ul></li></ul>\\n        <div class=\"nav\">\\n          \\n          <ul class=\"nav\"><li class=\"web2py-menu-first\"><a href=\"/places/default/index\">Home</a></li><li class=\"web2py-menu-last\"><a href=\"/places/default/search\">Search</a></li></ul>\\n          \\n        </div><!--/.nav-collapse -->\\n      </div>\\n    </div>\\n  </div><!--/top navbar -->\\n\\n  <div class=\"container\">\\n    <!-- Masthead ================================================== -->\\n      \\n    <header class=\"mastheader row\" id=\"header\">\\n        <div class=\"span12\">\\n            <div class=\"page-header\">\\n                <h1>\\n                    Example web scraping website\\n                    <small></small>\\n                </h1>\\n            </div>\\n        </div>\\n    </header>\\n\\t\\n\\n    <section id=\"main\" class=\"main row\">\\n        \\n\\n        <div class=\"span12\">\\n            \\n            \\n\\n<div id=\"results\">\\n<table><tr><td><div><a href=\"/places/default/view/Afghanistan-1\"><img src=\"/places/static/images/flags/af.png\" /> Afghanistan</a></div></td><td><div><a href=\"/places/default/view/Aland-Islands-2\"><img src=\"/places/static/images/flags/ax.png\" /> Aland Islands</a></div></td></tr><tr><td><div><a href=\"/places/default/view/Albania-3\"><img src=\"/places/static/images/flags/al.png\" /> Albania</a></div></td><td><div><a href=\"/places/default/view/Algeria-4\"><img src=\"/places/static/images/flags/dz.png\" /> Algeria</a></div></td></tr><tr><td><div><a href=\"/places/default/view/American-Samoa-5\"><img src=\"/places/static/images/flags/as.png\" /> American Samoa</a></div></td><td><div><a href=\"/places/default/view/Andorra-6\"><img src=\"/places/static/images/flags/ad.png\" /> Andorra</a></div></td></tr><tr><td><div><a href=\"/places/default/view/Angola-7\"><img src=\"/places/static/images/flags/ao.png\" /> Angola</a></div></td><td><div><a href=\"/places/default/view/Anguilla-8\"><img src=\"/places/static/images/flags/ai.png\" /> Anguilla</a></div></td></tr><tr><td><div><a href=\"/places/default/view/Antarctica-9\"><img src=\"/places/static/images/flags/aq.png\" /> Antarctica</a></div></td><td><div><a href=\"/places/default/view/Antigua-and-Barbuda-10\"><img src=\"/places/static/images/flags/ag.png\" /> Antigua and Barbuda</a></div></td></tr></table>\\n</div>\\n\\n<div id=\"pagination\">\\n\\n    &lt; Previous\\n\\n|\\n\\n    <a href=\"/places/default/index/1\">Next &gt;</a>\\n\\n</div>\\n\\n            \\n        </div>\\n\\n        \\n    </section><!--/main-->\\n\\n    <!-- Footer ================================================== -->\\n    <div class=\"row\">\\n        <footer class=\"footer span12\" id=\"footer\">\\n        </footer>\\n    </div>\\n\\n  </div> <!-- /container -->\\n\\n  <!-- The javascript =============================================\\n       (Placed at the end of the document so the pages load faster) -->\\n  <script src=\"/places/static/js/bootstrap.min.js\"></script>\\n  <script src=\"/places/static/js/web2py_bootstrap.js\"></script>\\n  <!--[if lt IE 7 ]>\\n      <script src=\"/places/static/js/dd_belatedpng.js\"></script>\\n      <script> DD_belatedPNG.fix(\\'img, .png_bg\\'); //fix any <img> or .png_bg background-images </script>\\n      <![endif]-->\\n</body>\\n</html>\\n\\n'"
      ]
     },
     "execution_count": 29,
     "metadata": {},
     "output_type": "execute_result"
    }
   ],
   "source": [
    "url = \"http://example.webscraping.com/places/default/index\"\n",
    "resp = download(url=url)\n",
    "resp.text"
   ]
  },
  {
   "cell_type": "raw",
   "metadata": {},
   "source": [
    "html 코드는 다음과 같은 형식을 지킨다. \n",
    "이를 바탕으로 정규식 패턴을 만들자.\n",
    "\n",
    "<태그 속성명=\"속성값\">내용</태그>\n",
    "<a href=\"경로\">이름</a>\n",
    "<img src=\"이미지주소\">"
   ]
  },
  {
   "cell_type": "code",
   "execution_count": 64,
   "metadata": {},
   "outputs": [
    {
     "data": {
      "text/plain": [
       "['/places/static/images/flags/af.png',\n",
       " '/places/static/images/flags/ax.png',\n",
       " '/places/static/images/flags/al.png',\n",
       " '/places/static/images/flags/dz.png',\n",
       " '/places/static/images/flags/as.png',\n",
       " '/places/static/images/flags/ad.png',\n",
       " '/places/static/images/flags/ao.png',\n",
       " '/places/static/images/flags/ai.png',\n",
       " '/places/static/images/flags/aq.png',\n",
       " '/places/static/images/flags/ag.png']"
      ]
     },
     "execution_count": 64,
     "metadata": {},
     "output_type": "execute_result"
    }
   ],
   "source": [
    "# response 받은 결과에서, image source만 가져와보자.\n",
    "\n",
    "groups = re.findall(r'<img src=\"(.+?)\" \\/>', resp.text)\n",
    "groups"
   ]
  },
  {
   "cell_type": "code",
   "execution_count": 53,
   "metadata": {},
   "outputs": [
    {
     "data": {
      "text/plain": [
       "['http://example.webscraping.com/places/static/images/flags/af.png',\n",
       " 'http://example.webscraping.com/places/static/images/flags/ax.png',\n",
       " 'http://example.webscraping.com/places/static/images/flags/al.png',\n",
       " 'http://example.webscraping.com/places/static/images/flags/dz.png',\n",
       " 'http://example.webscraping.com/places/static/images/flags/as.png',\n",
       " 'http://example.webscraping.com/places/static/images/flags/ad.png',\n",
       " 'http://example.webscraping.com/places/static/images/flags/ao.png',\n",
       " 'http://example.webscraping.com/places/static/images/flags/ai.png',\n",
       " 'http://example.webscraping.com/places/static/images/flags/aq.png',\n",
       " 'http://example.webscraping.com/places/static/images/flags/ag.png']"
      ]
     },
     "execution_count": 53,
     "metadata": {},
     "output_type": "execute_result"
    }
   ],
   "source": [
    "# 정규식으로 알아낸 이미지 주소와, 사이트 주소를 합쳐서 실제 이미지 주소를 알아내기\n",
    "# 정규식으로 알아낸 이미지 주소는 상대주소이고, 우리가 필요한 것은 절대 주소.\n",
    "\n",
    "[requests.compat.urljoin(resp.url, _) for _ in groups]"
   ]
  },
  {
   "cell_type": "code",
   "execution_count": 62,
   "metadata": {},
   "outputs": [
    {
     "name": "stdout",
     "output_type": "stream",
     "text": [
      "16\n"
     ]
    },
    {
     "data": {
      "text/plain": [
       "['http://example.webscraping.com/places/default/index',\n",
       " 'http://example.webscraping.com/places/default/user/register?_next=/places/default/index',\n",
       " 'http://example.webscraping.com/places/default/user/login?_next=/places/default/index',\n",
       " 'http://example.webscraping.com/places/default/index',\n",
       " 'http://example.webscraping.com/places/default/search',\n",
       " 'http://example.webscraping.com/places/default/view/Afghanistan-1',\n",
       " 'http://example.webscraping.com/places/default/view/Aland-Islands-2',\n",
       " 'http://example.webscraping.com/places/default/view/Albania-3',\n",
       " 'http://example.webscraping.com/places/default/view/Algeria-4',\n",
       " 'http://example.webscraping.com/places/default/view/American-Samoa-5',\n",
       " 'http://example.webscraping.com/places/default/view/Andorra-6',\n",
       " 'http://example.webscraping.com/places/default/view/Angola-7',\n",
       " 'http://example.webscraping.com/places/default/view/Anguilla-8',\n",
       " 'http://example.webscraping.com/places/default/view/Antarctica-9',\n",
       " 'http://example.webscraping.com/places/default/view/Antigua-and-Barbuda-10',\n",
       " 'http://example.webscraping.com/places/default/index/1']"
      ]
     },
     "execution_count": 62,
     "metadata": {},
     "output_type": "execute_result"
    }
   ],
   "source": [
    "# response 받은 결과에서, link가 있는 것만 가져와보자.\n",
    "\n",
    "groups = re.findall(r'<a href=\"(.+?)\"', resp.text)\n",
    "print(len(groups)) # len은 갯수를 세어주는 함수\n",
    "[requests.compat.urljoin(resp.url, _) for _ in groups]"
   ]
  },
  {
   "cell_type": "markdown",
   "metadata": {},
   "source": [
    "# 구글 검색에서 정규식으로 원하는 결과만 가져오기"
   ]
  },
  {
   "cell_type": "code",
   "execution_count": 77,
   "metadata": {},
   "outputs": [],
   "source": [
    "url = \"https://www.google.com/search\"\n",
    "params = {\n",
    "    \"q\":\"성소\"\n",
    "}\n",
    "resp = download('get', url, params=params, headers=headers)"
   ]
  },
  {
   "cell_type": "code",
   "execution_count": 79,
   "metadata": {},
   "outputs": [
    {
     "data": {
      "text/plain": [
       "['성소 - Google 검색']"
      ]
     },
     "execution_count": 79,
     "metadata": {},
     "output_type": "execute_result"
    }
   ],
   "source": [
    "# title을 한번 뽑아보자.\n",
    "\n",
    "re.findall(r\"<title>(.*?)</title>\", resp.text)"
   ]
  },
  {
   "cell_type": "code",
   "execution_count": 84,
   "metadata": {},
   "outputs": [],
   "source": [
    "from html import unescape"
   ]
  },
  {
   "cell_type": "code",
   "execution_count": 85,
   "metadata": {},
   "outputs": [
    {
     "data": {
      "text/plain": [
       "[('/search?q=%EC%84%B1%EC%86%8C&amp;gbv=1&amp;sei=XXJvXY-POcKWr7wPj6CMuA4',\n",
       "  '성소(우주소녀) - 나무위키'),\n",
       " ('https://namu.wiki/w/%EC%84%B1%EC%86%8C', '성소 - 나무위키'),\n",
       " ('https://ko.wikipedia.org/wiki/%EC%84%B1%EC%86%8C_(%EA%B0%80%EC%88%98)',\n",
       "  '성소 (가수) - 위키백과, 우리 모두의 백과사전'),\n",
       " ('https://1boon.daum.net/benter/sungso', '비주얼 파티 중이라는 우주소녀 성소 근황 | 1boon'),\n",
       " ('http://news.chosun.com/site/data/html_dir/2018/09/03/2018090301347.html',\n",
       "  '[SC이슈]&quot;컴백 NO, 예능은 OK&quot;…우주소녀 성소, 中스케줄 논란 - 조선일보'),\n",
       " ('https://twitter.com/hashtag/%EC%84%B1%EC%86%8C', '#성소 hashtag on Twitter'),\n",
       " ('https://news.sbs.co.kr/news/endPage.do?news_id=N1004917577',\n",
       "  '우주소녀, 13명→10명 체제 컴백…&quot;성소 등 3명은 참여NO&quot; - SBS 뉴스'),\n",
       " ('https://1boon.kakao.com/newsade/WJSN-SS', '우주소녀 성소, CG 아닌가요? | 1boon'),\n",
       " ('https://www.mbcsportsplus.com/news/?mode=view&amp;cate=&amp;b_idx=99863462.000',\n",
       "  '[오·아] &quot;더 예뻐졌네&quot;…성소, 물오른 미모 공개 &#39;섹시미UP&#39; - 엠스플뉴스')]"
      ]
     },
     "execution_count": 85,
     "metadata": {},
     "output_type": "execute_result"
    }
   ],
   "source": [
    "# link들만 가져오기\n",
    "\n",
    "groups = re.findall(r'<a href=\"(.+?)\".+?><h3 class=\"LC20lb\"><div class=\"ellip\">(.+?)<\\/div>', resp.text)\n",
    "groups"
   ]
  },
  {
   "cell_type": "code",
   "execution_count": 94,
   "metadata": {},
   "outputs": [
    {
     "data": {
      "text/plain": [
       "[('https://www.google.com/search?q=%EC%84%B1%EC%86%8C&amp;gbv=1&amp;sei=XXJvXY-POcKWr7wPj6CMuA4',\n",
       "  '성소(우주소녀) - 나무위키'),\n",
       " ('https://namu.wiki/w/%EC%84%B1%EC%86%8C', '성소 - 나무위키'),\n",
       " ('https://ko.wikipedia.org/wiki/%EC%84%B1%EC%86%8C_(%EA%B0%80%EC%88%98)',\n",
       "  '성소 (가수) - 위키백과, 우리 모두의 백과사전'),\n",
       " ('https://1boon.daum.net/benter/sungso', '비주얼 파티 중이라는 우주소녀 성소 근황 | 1boon'),\n",
       " ('http://news.chosun.com/site/data/html_dir/2018/09/03/2018090301347.html',\n",
       "  '[SC이슈]\"컴백 NO, 예능은 OK\"…우주소녀 성소, 中스케줄 논란 - 조선일보'),\n",
       " ('https://twitter.com/hashtag/%EC%84%B1%EC%86%8C', '#성소 hashtag on Twitter'),\n",
       " ('https://news.sbs.co.kr/news/endPage.do?news_id=N1004917577',\n",
       "  '우주소녀, 13명→10명 체제 컴백…\"성소 등 3명은 참여NO\" - SBS 뉴스'),\n",
       " ('https://1boon.kakao.com/newsade/WJSN-SS', '우주소녀 성소, CG 아닌가요? | 1boon'),\n",
       " ('https://www.mbcsportsplus.com/news/?mode=view&amp;cate=&amp;b_idx=99863462.000',\n",
       "  '[오·아] \"더 예뻐졌네\"…성소, 물오른 미모 공개 \\'섹시미UP\\' - 엠스플뉴스')]"
      ]
     },
     "execution_count": 94,
     "metadata": {},
     "output_type": "execute_result"
    }
   ],
   "source": [
    "# url 중에서 상대주소는 절대주소로 바꿔주고,\n",
    "# 제목은 한글로 인코딩해주는 작업을 함.\n",
    "\n",
    "[(requests.compat.urljoin(resp.url, _[0]), unescape(_[1])) for _ in groups]"
   ]
  },
  {
   "cell_type": "code",
   "execution_count": null,
   "metadata": {},
   "outputs": [],
   "source": []
  }
 ],
 "metadata": {
  "kernelspec": {
   "display_name": "Python 3",
   "language": "python",
   "name": "python3"
  },
  "language_info": {
   "codemirror_mode": {
    "name": "ipython",
    "version": 3
   },
   "file_extension": ".py",
   "mimetype": "text/x-python",
   "name": "python",
   "nbconvert_exporter": "python",
   "pygments_lexer": "ipython3",
   "version": "3.7.3"
  }
 },
 "nbformat": 4,
 "nbformat_minor": 2
}
